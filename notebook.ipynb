{
 "cells": [
  {
   "cell_type": "markdown",
   "metadata": {},
   "source": [
    "# Importation "
   ]
  },
  {
   "cell_type": "code",
   "execution_count": 3,
   "metadata": {},
   "outputs": [],
   "source": [
    "import pandas as pd \n",
    "import pathlib\n",
    "import textwrap\n",
    "import google.generativeai as genai\n",
    "from IPython.display import display\n",
    "from IPython.display import Markdown"
   ]
  },
  {
   "cell_type": "markdown",
   "metadata": {},
   "source": [
    "# Lecture du dataframe"
   ]
  },
  {
   "cell_type": "code",
   "execution_count": 4,
   "metadata": {},
   "outputs": [],
   "source": [
    "df = pd.read_csv('text.csv')"
   ]
  },
  {
   "cell_type": "markdown",
   "metadata": {},
   "source": [
    "# Consultation"
   ]
  },
  {
   "cell_type": "code",
   "execution_count": 5,
   "metadata": {},
   "outputs": [
    {
     "data": {
      "text/html": [
       "<div>\n",
       "<style scoped>\n",
       "    .dataframe tbody tr th:only-of-type {\n",
       "        vertical-align: middle;\n",
       "    }\n",
       "\n",
       "    .dataframe tbody tr th {\n",
       "        vertical-align: top;\n",
       "    }\n",
       "\n",
       "    .dataframe thead th {\n",
       "        text-align: right;\n",
       "    }\n",
       "</style>\n",
       "<table border=\"1\" class=\"dataframe\">\n",
       "  <thead>\n",
       "    <tr style=\"text-align: right;\">\n",
       "      <th></th>\n",
       "      <th>Unnamed: 0</th>\n",
       "      <th>text</th>\n",
       "      <th>label</th>\n",
       "    </tr>\n",
       "  </thead>\n",
       "  <tbody>\n",
       "    <tr>\n",
       "      <th>0</th>\n",
       "      <td>0</td>\n",
       "      <td>i just feel really helpless and heavy hearted</td>\n",
       "      <td>4</td>\n",
       "    </tr>\n",
       "    <tr>\n",
       "      <th>1</th>\n",
       "      <td>1</td>\n",
       "      <td>ive enjoyed being able to slouch about relax a...</td>\n",
       "      <td>0</td>\n",
       "    </tr>\n",
       "    <tr>\n",
       "      <th>2</th>\n",
       "      <td>2</td>\n",
       "      <td>i gave up my internship with the dmrg and am f...</td>\n",
       "      <td>4</td>\n",
       "    </tr>\n",
       "    <tr>\n",
       "      <th>3</th>\n",
       "      <td>3</td>\n",
       "      <td>i dont know i feel so lost</td>\n",
       "      <td>0</td>\n",
       "    </tr>\n",
       "    <tr>\n",
       "      <th>4</th>\n",
       "      <td>4</td>\n",
       "      <td>i am a kindergarten teacher and i am thoroughl...</td>\n",
       "      <td>4</td>\n",
       "    </tr>\n",
       "  </tbody>\n",
       "</table>\n",
       "</div>"
      ],
      "text/plain": [
       "   Unnamed: 0                                               text  label\n",
       "0           0      i just feel really helpless and heavy hearted      4\n",
       "1           1  ive enjoyed being able to slouch about relax a...      0\n",
       "2           2  i gave up my internship with the dmrg and am f...      4\n",
       "3           3                         i dont know i feel so lost      0\n",
       "4           4  i am a kindergarten teacher and i am thoroughl...      4"
      ]
     },
     "execution_count": 5,
     "metadata": {},
     "output_type": "execute_result"
    }
   ],
   "source": [
    "df.head()"
   ]
  },
  {
   "cell_type": "markdown",
   "metadata": {},
   "source": [
    "# Integration et consultation des models"
   ]
  },
  {
   "cell_type": "code",
   "execution_count": 9,
   "metadata": {},
   "outputs": [
    {
     "name": "stdout",
     "output_type": "stream",
     "text": [
      "models/gemini-1.0-pro\n",
      "models/gemini-1.0-pro-001\n",
      "models/gemini-1.0-pro-latest\n",
      "models/gemini-1.0-pro-vision-latest\n",
      "models/gemini-1.5-flash\n",
      "models/gemini-1.5-flash-001\n",
      "models/gemini-1.5-flash-latest\n",
      "models/gemini-1.5-pro\n",
      "models/gemini-1.5-pro-001\n",
      "models/gemini-1.5-pro-latest\n",
      "models/gemini-pro\n",
      "models/gemini-pro-vision\n"
     ]
    }
   ],
   "source": [
    "API_KEY = \"YOUR API KEY\"\n",
    "genai.configure(api_key=Key)\n",
    "for m in genai.list_models():\n",
    "  if 'generateContent' in m.supported_generation_methods:\n",
    "    print(m.name)"
   ]
  },
  {
   "cell_type": "markdown",
   "metadata": {},
   "source": [
    "# On load le model"
   ]
  },
  {
   "cell_type": "code",
   "execution_count": 10,
   "metadata": {},
   "outputs": [],
   "source": [
    "model = genai.GenerativeModel('gemini-1.5-flash')"
   ]
  },
  {
   "cell_type": "markdown",
   "metadata": {},
   "source": [
    "# On defini une fonctoin pour un affichage claire"
   ]
  },
  {
   "cell_type": "code",
   "execution_count": null,
   "metadata": {},
   "outputs": [],
   "source": [
    "def to_markdown(text):\n",
    "  text = text.replace('•', '  *')\n",
    "  return Markdown(textwrap.indent(text, '> ', predicate=lambda _: True))"
   ]
  },
  {
   "cell_type": "markdown",
   "metadata": {},
   "source": [
    "# Example d'usage "
   ]
  },
  {
   "cell_type": "code",
   "execution_count": 29,
   "metadata": {},
   "outputs": [
    {
     "data": {
      "text/markdown": [
       "> Wa alaikum assalam, Zohir! 👋  It's nice to meet you. 😊  What can I do for you today? \n"
      ],
      "text/plain": [
       "<IPython.core.display.Markdown object>"
      ]
     },
     "execution_count": 29,
     "metadata": {},
     "output_type": "execute_result"
    }
   ],
   "source": [
    "response = model.generate_content(\"Salam , je suis zohir :) \")\n",
    "to_markdown(response.text)"
   ]
  },
  {
   "cell_type": "markdown",
   "metadata": {},
   "source": [
    "# Analyse de data "
   ]
  },
  {
   "cell_type": "code",
   "execution_count": 14,
   "metadata": {},
   "outputs": [
    {
     "data": {
      "text/markdown": [
       "> This dataframe likely represents a collection of text data labeled with different categories. Here's a breakdown:\n",
       "> \n",
       "> * **Unnamed: 0**: This column appears to be an index, likely assigned automatically when the data was loaded. It doesn't hold any meaningful information in this context.\n",
       "> * **text**: This column contains the actual text data, probably user-generated content like tweets, forum posts, or reviews.\n",
       "> * **label**: This column holds the categorical labels assigned to each text entry. The labels, ranging from 0 to 5, indicate different topics, sentiments, or categories. \n",
       "> \n",
       "> **Without knowing the specific context or the meaning of the labels, it's impossible to say exactly what the dataframe represents.** However, here are some possible interpretations based on common data labeling practices:\n",
       "> \n",
       "> * **Sentiment Analysis:** The labels could represent different sentiment levels (e.g., 0 = negative, 5 = positive).\n",
       "> * **Topic Classification:** The labels could correspond to different topics, like news, sports, or entertainment.\n",
       "> * **Intent Recognition:** The labels could represent user intents (e.g., asking a question, expressing an opinion).\n",
       "> \n",
       "> **To understand the exact purpose of this dataframe, you'd need more information about its source and the specific meaning of the labels.** \n"
      ],
      "text/plain": [
       "<IPython.core.display.Markdown object>"
      ]
     },
     "execution_count": 14,
     "metadata": {},
     "output_type": "execute_result"
    }
   ],
   "source": [
    "response = model.generate_content(f\"{df} what is this dataframe about ? \")\n",
    "to_markdown(response.text)"
   ]
  },
  {
   "cell_type": "markdown",
   "metadata": {},
   "source": [
    "# Demander a gemini d'analyser tout le dataframe"
   ]
  },
  {
   "cell_type": "code",
   "execution_count": 16,
   "metadata": {},
   "outputs": [
    {
     "data": {
      "text/markdown": [
       "> It's impossible to analyze 416,809 texts without more information.  That's a massive amount of data! To give you a useful analysis, I'd need some context:\n",
       "> \n",
       "> **What is the source of these texts?** \n",
       "> \n",
       "> * **Are they from social media?** (Twitter, Facebook, etc.)\n",
       "> * **Are they from a specific subreddit or forum?**\n",
       "> * **Are they from a collection of personal journals or diaries?**\n",
       "> * **Are they from customer reviews of a product or service?** \n",
       "> \n",
       "> **What kind of analysis are you looking for?**\n",
       "> \n",
       "> * **Do you want to identify common themes or topics?**\n",
       "> * **Do you want to analyze sentiment (positive, negative, neutral)?**\n",
       "> * **Are you interested in specific keywords or phrases?**\n",
       "> * **Are you looking for insights about the authors or their demographics?**\n",
       "> \n",
       "> **Can you provide some sample texts or a smaller subset?**\n",
       "> \n",
       "> This would give me a better understanding of the data and help me provide a more meaningful analysis. \n",
       "> \n",
       "> For example, if you gave me a few dozen texts, I could identify some common themes or sentiments. \n",
       "> \n",
       "> Once you provide me with more information, I can help you analyze these texts and understand what they are expressing or talking about. \n"
      ],
      "text/plain": [
       "<IPython.core.display.Markdown object>"
      ]
     },
     "execution_count": 16,
     "metadata": {},
     "output_type": "execute_result"
    }
   ],
   "source": [
    "response = model.generate_content(f\"{df.text} would you please analyse those texts and say what are they expressing or talking about ? \")\n",
    "to_markdown(response.text)"
   ]
  },
  {
   "cell_type": "markdown",
   "metadata": {},
   "source": [
    "# Envoi de 40 lignes depuis notre dataframe pour etre analyser"
   ]
  },
  {
   "cell_type": "code",
   "execution_count": 19,
   "metadata": {},
   "outputs": [
    {
     "data": {
      "text/markdown": [
       "> The texts you provided express a wide range of emotions and experiences. Here's a breakdown of some common themes:\n",
       "> \n",
       "> **Feelings of Disappointment, Loss, and Helplessness:**\n",
       "> \n",
       "> * **\"i just feel really helpless and heavy hearted\"** -  Expresses deep sadness and a lack of control.\n",
       "> * **\"i gave up my internship with the dmrg and am feeling really lost\"** -  Reflects disappointment and uncertainty about the future.\n",
       "> * **\"i don't know i feel so lost\"** -  Reinforces a sense of confusion and disorientation.\n",
       "> * **\"i was beginning to feel quite disheartened\"** -  Indicates a gradual decline in motivation or hope.\n",
       "> * **\"i feel like a jerk because the library student...\"** -  Expresses guilt and regret over actions or words.\n",
       "> * **\"i feel disheartened to message him and yet...\"** - Shows a conflicting desire to connect but also feeling discouraged.\n",
       "> * **\"i have found myself feeling hopeless about the...\"** -  Reveals a sense of despair and a lack of belief in a positive outcome.\n",
       "> \n",
       "> **Feelings of Satisfaction, Success, and Confidence:**\n",
       "> \n",
       "> * **\"ive enjoyed being able to slouch about relax a...\"**  -  Expresses contentment and relaxation.\n",
       "> * **\"i am a kindergarten teacher and i am thoroughly enjoying...\"** - Shows fulfillment and passion for their profession.\n",
       "> * **\"i have officially graduated im not feeling as...\"** -  Indicates a sense of accomplishment and pride.\n",
       "> * **\"i feel my portfolio demonstrates how eager i am...\"** -  Expresses confidence and self-belief.\n",
       "> * **\"i am feeling much stronger and more confident...\"** -  Indicates personal growth and a positive outlook.\n",
       "> * **\"i take a shower i feel wonderful energetic and...\"** -  Reflects a positive physical and emotional state.\n",
       "> * **\"i was able to overcome this anxiousness and fe...\"** -  Shows resilience and the ability to overcome challenges.\n",
       "> * **\"i have been successful in providing some peace...\"** -  Highlights a sense of achievement and making a difference.\n",
       "> * **\"i feel assured that i m doing so much right an...\"** -  Expresses self-assurance and a positive self-perception.\n",
       "> \n",
       "> **Other Themes:**\n",
       "> \n",
       "> * **\"i would think that whomever would be lucky enough...\"** -  Expresses a sense of envy or longing for something others have.\n",
       "> * **\"i fear that they won't ever feel that delicious...\"** -  Indicates concern about someone else's happiness or well-being.\n",
       "> * **\"i can still lose the weight without feeling deprived...\"** - Shows a desire for a positive change while seeking comfort.\n",
       "> * **\"i try to be nice though so if you get a bitchy...\"** -  Reveals an attempt to maintain social harmony despite personal feelings.\n",
       "> * **\"i feel like a real fan not that i was ever a fake...\"** -  Expresses genuine enthusiasm for something.\n",
       "> * **\"i feel like i am actually getting something useful...\"** -  Highlights a sense of purpose and progress.\n",
       "> * **\"i needed to show me that i really am integrating...\"** -  Shows a desire for self-acceptance and a feeling of belonging.\n",
       "> * **\"i kinda have a feeling that something will come...\"** - Expresses a hopefulness for a positive future.\n",
       "> * **\"this emotion has never been an intense one...\"** -  Indicates a personal understanding of their own emotional experiences.\n",
       "> \n",
       "> It's important to note that these are just some possible interpretations. Without more context, it's difficult to definitively say what each text is expressing. However, the analysis provides a starting point for understanding the range of emotions and experiences captured in these snippets. \n"
      ],
      "text/plain": [
       "<IPython.core.display.Markdown object>"
      ]
     },
     "execution_count": 19,
     "metadata": {},
     "output_type": "execute_result"
    }
   ],
   "source": [
    "response = model.generate_content(f\"\"\"\n",
    "{df.head(40).text} \n",
    "would you please analyse those texts and say what \n",
    "are they expressing or talking about ? \n",
    "\"\"\")\n",
    "to_markdown(response.text)"
   ]
  },
  {
   "cell_type": "markdown",
   "metadata": {},
   "source": [
    "# Demander un example de label"
   ]
  },
  {
   "cell_type": "code",
   "execution_count": 21,
   "metadata": {},
   "outputs": [
    {
     "data": {
      "text/markdown": [
       "> It looks like you're working with text data and trying to assign labels to it. The labels seem to represent different emotions or states of mind. Here's how I can help: \n",
       "> \n",
       "> **Understanding the Labels:**\n",
       "> \n",
       "> * **0:  Negative Emotions** (Helpless, Lost, Disheartened, Hopeless, Feeling Stupid)\n",
       "> * **1: Positive Emotions** (Enjoying, Feeling Confident, Wonderful, Energetic, Successful)\n",
       "> * **2:  Neutral/Descriptive** (Thinking, Imagining, Getting Something)\n",
       "> * **3:  Feeling Like a Jerk/Bad** (Feeling Like a Jerk, Missing Others, Feeling Stupid)\n",
       "> * **4:  Feeling Overwhelmed/Heavy** (Helpless, Heavy Hearted, Feeling Lost)\n",
       "> * **5: Taking Time Out** (Slouching, Relaxing, Having a Lie-In)\n",
       "> \n",
       "> **Analyzing the Text:**\n",
       "> \n",
       "> To make sure the labels are correctly assigned, I need a bit more context:\n",
       "> \n",
       "> * **What is the source of the text?** Is this from a survey, a social media post, or something else?\n",
       "> * **Are the labels based on pre-existing classifications?** If so, what are they called?\n",
       "> * **Can you provide some examples of text with their corresponding labels?** This would help me understand the criteria for assigning labels. \n",
       "> \n",
       "> **Improving the Labeling:**\n",
       "> \n",
       "> Once I have a better understanding of your goal, I can help with:\n",
       "> \n",
       "> * **Developing a more detailed and accurate labeling scheme.**\n",
       "> * **Creating a system for automatically labeling the text.**\n",
       "> * **Analyzing the text to identify patterns and insights related to the different labels.** \n",
       "> \n",
       "> Please provide me with more information so I can assist you more effectively! \n"
      ],
      "text/plain": [
       "<IPython.core.display.Markdown object>"
      ]
     },
     "execution_count": 21,
     "metadata": {},
     "output_type": "execute_result"
    }
   ],
   "source": [
    "response = model.generate_content(f\"\"\"\n",
    "{df.head(40).text} \n",
    "those are the texts would you please make a correct label for those \n",
    "values attributed to those texts \n",
    "{df.head(40).label}? \n",
    "\"\"\")\n",
    "to_markdown(response.text)"
   ]
  }
 ],
 "metadata": {
  "kernelspec": {
   "display_name": "Python 3",
   "language": "python",
   "name": "python3"
  },
  "language_info": {
   "codemirror_mode": {
    "name": "ipython",
    "version": 3
   },
   "file_extension": ".py",
   "mimetype": "text/x-python",
   "name": "python",
   "nbconvert_exporter": "python",
   "pygments_lexer": "ipython3",
   "version": "3.11.4"
  },
  "orig_nbformat": 4
 },
 "nbformat": 4,
 "nbformat_minor": 2
}
